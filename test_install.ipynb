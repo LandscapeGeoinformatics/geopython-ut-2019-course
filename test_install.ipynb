{
 "cells": [
  {
   "cell_type": "markdown",
   "metadata": {},
   "source": [
    "# Test that the Python environment is properly installed\n",
    "\n",
    "- check the \"kernel\" under \"Kernel\" -> \"change kernel\" -> \"geopy2019\"\n",
    "- always close a notebook safely via \"File\" -> \"Save and Checkpoint\" and then \"Close and Halt\"\n",
    "- close the Jupyter notebook server via the \"Quit\" button on the main page"
   ]
  },
  {
   "cell_type": "code",
   "execution_count": 1,
   "metadata": {},
   "outputs": [
    {
     "name": "stderr",
     "output_type": "stream",
     "text": [
      "C:\\dev\\conda3\\envs\\geopy2019\\lib\\site-packages\\pysal\\explore\\segregation\\network\\network.py:16: UserWarning: You need pandana and urbanaccess to work with segregation's network module\n",
      "You can install them with  `pip install urbanaccess pandana` or `conda install -c udst pandana urbanaccess`\n",
      "  \"You need pandana and urbanaccess to work with segregation's network module\\n\"\n",
      "C:\\dev\\conda3\\envs\\geopy2019\\lib\\site-packages\\pysal\\model\\spvcm\\abstracts.py:10: UserWarning: The `dill` module is required to use the sqlite backend fully.\n",
      "  from .sqlite import head_to_sql, start_sql\n"
     ]
    }
   ],
   "source": [
    "import numpy as np\n",
    "import pandas as pd\n",
    "import matplotlib.pyplot as plt\n",
    "import seaborn\n",
    "import scipy\n",
    "import shapely\n",
    "import gdal\n",
    "import fiona\n",
    "import shapely\n",
    "import geopandas as gpd\n",
    "import pysal\n",
    "import bokeh\n",
    "import cartopy\n",
    "import mapclassify\n",
    "import geoviews\n",
    "import rasterstats\n",
    "import rasterio\n",
    "import geoplot\n",
    "import folium"
   ]
  },
  {
   "cell_type": "code",
   "execution_count": 2,
   "metadata": {},
   "outputs": [
    {
     "name": "stdout",
     "output_type": "stream",
     "text": [
      "The Pysal package can use additional packages, but we don't need that functionality. The warning is ok.\n"
     ]
    }
   ],
   "source": [
    "print(\"The Pysal package can use additional packages, but we don't need that functionality. The warning is ok.\")"
   ]
  },
  {
   "cell_type": "code",
   "execution_count": null,
   "metadata": {},
   "outputs": [],
   "source": []
  }
 ],
 "metadata": {
  "kernelspec": {
   "display_name": "geopy2019",
   "language": "python",
   "name": "geopy2019"
  },
  "language_info": {
   "codemirror_mode": {
    "name": "ipython",
    "version": 3
   },
   "file_extension": ".py",
   "mimetype": "text/x-python",
   "name": "python",
   "nbconvert_exporter": "python",
   "pygments_lexer": "ipython3",
   "version": "3.7.3"
  }
 },
 "nbformat": 4,
 "nbformat_minor": 2
}
